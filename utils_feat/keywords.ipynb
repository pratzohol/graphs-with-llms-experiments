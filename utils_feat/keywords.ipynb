{
 "cells": [
  {
   "cell_type": "code",
   "execution_count": null,
   "metadata": {},
   "outputs": [],
   "source": [
    "import os\n",
    "import os.path as osp\n",
    "from torch_geometric.data import Data\n",
    "import torch\n",
    "import pandas as pd\n",
    "import numpy as np\n",
    "from torch_geometric.data import InMemoryDataset, download_url\n",
    "from transformers import AutoModelForCausalLM, AutoTokenizer, set_seed, LlamaForCausalLM\n",
    "\n",
    "tokenizer = AutoTokenizer.from_pretrained(\"/home/models/zephyr-7b-alpha\")\n",
    "model = AutoModelForCausalLM.from_pretrained(\n",
    "    \"HuggingFaceH4/zephyr-7b-alpha\", device_map=\"auto\", load_in_4bit=True\n",
    ")\n",
    "model = LlamaForCausalLM.from_pretrained(\"/home/models/Llama-2-7b-hf\", device_map=\"auto\", load_in_4bit=True)\n",
    "set_seed(0)\n",
    "prompt = \"\"\"How many helicopters can a human eat in one sitting? Reply as a thug.\"\"\"\n",
    "model_inputs = tokenizer([prompt], return_tensors=\"pt\").to(\"cuda\")\n",
    "input_length = model_inputs.input_ids.shape[1]\n",
    "generated_ids = model.generate(**model_inputs, max_new_tokens=20)\n",
    "print(tokenizer.batch_decode(generated_ids[:, input_length:], skip_special_tokens=True)[0])\n",
    "\n",
    "set_seed(42)\n",
    "def getKeywords(text):\n",
    "    messages = [\n",
    "        {\n",
    "            \"role\": \"system\",\n",
    "            \"content\": \"\"\"\n",
    "              You are a smart reviewer of a research conference. Given the title and abstract of the paper by a user, provide 5 keywords that you think are most suitable for describing the information.\n",
    "              Strictly follow the output format.\n",
    "            \"\"\",\n",
    "        },\n",
    "        {\n",
    "            \"role\": \"user\",\n",
    "            \"content\": text\n",
    "        },\n",
    "    ]\n",
    "    model_inputs = tokenizer.apply_chat_template(messages, add_generation_prompt=True, return_tensors=\"pt\").to(\"cuda\")\n",
    "    input_length = model_inputs.shape[1]\n",
    "    generated_ids = model.generate(model_inputs, do_sample=True, max_new_tokens=100)\n",
    "    output = tokenizer.batch_decode(generated_ids[:, input_length:], skip_special_tokens=True)[0]\n",
    "    return output\n",
    "\n",
    "data_path = osp.join(\"/content/cora.pt\")\n",
    "raw_cora_data = torch.load(data_path)\n",
    "\n",
    "raw_cora_data = Data.from_dict(raw_cora_data.to_dict())\n",
    "texts = raw_cora_data.raw_text\n",
    "label_names = raw_cora_data.label_names\n",
    "\n",
    "keywords = []\n",
    "for text in texts[:10]:\n",
    "    keywords.append(getKeywords(text))"
   ]
  }
 ],
 "metadata": {
  "kernelspec": {
   "display_name": "torch_pyg",
   "language": "python",
   "name": "python3"
  },
  "language_info": {
   "codemirror_mode": {
    "name": "ipython",
    "version": 3
   },
   "file_extension": ".py",
   "mimetype": "text/x-python",
   "name": "python",
   "nbconvert_exporter": "python",
   "pygments_lexer": "ipython3",
   "version": "3.10.6"
  }
 },
 "nbformat": 4,
 "nbformat_minor": 2
}
