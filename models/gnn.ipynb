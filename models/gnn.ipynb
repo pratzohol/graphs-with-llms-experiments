{
 "cells": [
  {
   "cell_type": "code",
   "execution_count": 1,
   "metadata": {},
   "outputs": [],
   "source": [
    "import torch\n",
    "import torch.nn as nn\n",
    "import torch.nn.functional as F\n",
    "from torch_geometric.nn import GCNConv, GATConv, SAGEConv"
   ]
  },
  {
   "cell_type": "code",
   "execution_count": null,
   "metadata": {},
   "outputs": [],
   "source": [
    "class GNN(nn.Module):\n",
    "    def __init__(self, name=\"gcn\", num_classes=7):\n",
    "        self.name = name.lower()\n",
    "        self.dropout = nn.Dropout(p=0.3)\n",
    "        self.num_classes = num_classes\n",
    "\n",
    "        super().__init__()\n",
    "\n",
    "        if self.name == \"gcn\":\n",
    "            self.conv1 = GCNConv(768, 64) # 768 is hardcoed because LLM output dimension is 768\n",
    "            self.conv2 = GCNConv(64, self.num_classes)\n",
    "\n",
    "        elif self.name == \"gat\":\n",
    "            # 768 is hardcoed because LLM output dimension is 768\n",
    "            self.conv1 = GATConv(768, 16, heads=4)\n",
    "            self.conv2 = GATConv(16 * 4, self.num_classes)\n",
    "\n",
    "        elif self.name == \"sage\" or self.name == \"graphsage\":\n",
    "            # 768 is hardcoed because LLM output dimension is 768\n",
    "            self.conv1 = SAGEConv(768, 64, normalize=True, project=True)\n",
    "            self.conv2 = SAGEConv(64, self.num_classes, normalize=True, project=True)\n",
    "\n",
    "        else:\n",
    "            raise NotImplementedError\n",
    "\n",
    "    def forward(self, data):\n",
    "        x, edge_index = data.x_text_feat, data.edge_index\n",
    "\n",
    "        x = self.conv1(x, edge_index)\n",
    "        x = F.relu(x)\n",
    "\n",
    "        x = self.dropout(x)\n",
    "        x = self.conv2(x, edge_index)\n",
    "\n",
    "        return F.log_softmax(x, dim=1)"
   ]
  }
 ],
 "metadata": {
  "kernelspec": {
   "display_name": "torch_pyg_dgl",
   "language": "python",
   "name": "python3"
  },
  "language_info": {
   "codemirror_mode": {
    "name": "ipython",
    "version": 3
   },
   "file_extension": ".py",
   "mimetype": "text/x-python",
   "name": "python",
   "nbconvert_exporter": "python",
   "pygments_lexer": "ipython3",
   "version": "3.10.6"
  }
 },
 "nbformat": 4,
 "nbformat_minor": 2
}
