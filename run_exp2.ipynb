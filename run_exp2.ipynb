{
 "cells": [
  {
   "cell_type": "code",
   "execution_count": 11,
   "metadata": {},
   "outputs": [],
   "source": [
    "import pandas as pd\n",
    "import numpy as np\n",
    "import torch\n",
    "from models.gnn import GNN\n",
    "from models.mlp import MLP\n",
    "from utils.dataloader import GetDataloader\n",
    "from trainer import Trainer\n",
    "\n",
    "from tqdm import trange\n",
    "from tqdm import tqdm\n",
    "import torch.nn.functional as F\n",
    "import os\n",
    "import os.path as osp\n",
    "import yaml\n",
    "from datetime import date\n",
    "\n",
    "import warnings\n",
    "warnings.filterwarnings(\"ignore\")"
   ]
  },
  {
   "cell_type": "code",
   "execution_count": 12,
   "metadata": {},
   "outputs": [],
   "source": [
    "with open(\"config.yaml\", \"r\") as f:\n",
    "    args = yaml.safe_load(f)\n",
    "\n",
    "args[\"device\"] = 'cpu' if args[\"device\"] == 123 else f\"cuda:{args['device']}\"\n",
    "args[\"exp_name\"] = f\"Date -> {date.today()}. Experiment_{args['sentence_encoder']}_{args['exp_name']}\""
   ]
  },
  {
   "cell_type": "code",
   "execution_count": 13,
   "metadata": {},
   "outputs": [
    {
     "data": {
      "text/plain": [
       "{'exp_name': 'Date -> 2024-01-29. Experiment_ST_evaluation-mode',\n",
       " 'dataRoot': './data',\n",
       " 'custom_dataRoot': './custom_data',\n",
       " 'dataset': 'arxiv',\n",
       " 'model_type': 'MLP',\n",
       " 'sentence_encoder': 'ST',\n",
       " 'encoder_path': './lang_models',\n",
       " 'state_dict_path': './state_dicts',\n",
       " 'lr': 0.001,\n",
       " 'epochs': 200,\n",
       " 'batch_size': 5,\n",
       " 'weight_decay': 0.001,\n",
       " 'dropout': 0.3,\n",
       " 'seed': None,\n",
       " 'workers': 10,\n",
       " 'device': 'cuda:0',\n",
       " 'eval_only': False}"
      ]
     },
     "execution_count": 13,
     "metadata": {},
     "output_type": "execute_result"
    }
   ],
   "source": [
    "args"
   ]
  },
  {
   "cell_type": "code",
   "execution_count": 22,
   "metadata": {},
   "outputs": [
    {
     "data": {
      "text/plain": [
       "'2.0.1+cu118'"
      ]
     },
     "execution_count": 22,
     "metadata": {},
     "output_type": "execute_result"
    }
   ],
   "source": [
    "torch.__version__"
   ]
  }
 ],
 "metadata": {
  "kernelspec": {
   "display_name": "torch_pyg_dgl",
   "language": "python",
   "name": "python3"
  },
  "language_info": {
   "codemirror_mode": {
    "name": "ipython",
    "version": 3
   },
   "file_extension": ".py",
   "mimetype": "text/x-python",
   "name": "python",
   "nbconvert_exporter": "python",
   "pygments_lexer": "ipython3",
   "version": "3.10.6"
  }
 },
 "nbformat": 4,
 "nbformat_minor": 2
}
