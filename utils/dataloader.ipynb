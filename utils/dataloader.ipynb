{
 "cells": [
  {
   "cell_type": "code",
   "execution_count": 1,
   "metadata": {},
   "outputs": [],
   "source": [
    "import torch\n",
    "from cora import CoraPyGDataset\n",
    "from pubmed import PubmedPyGDataset\n",
    "from ogbn_arxiv import ArxivPyGDataset\n",
    "from encoder import SentenceEncoder"
   ]
  },
  {
   "cell_type": "code",
   "execution_count": 2,
   "metadata": {},
   "outputs": [],
   "source": [
    "class GetDataloader:\n",
    "    def __init__(self, custom_dataRoot=\"../custom_data\", dataset_name=\"cora\", sentence_encoder=\"ST\", device=2):\n",
    "        self.dataset_name = dataset_name.lower()\n",
    "        self.custom_dataRoot = custom_dataRoot\n",
    "        self.device = \"cpu\" if device == 123 else f\"cuda:{device}\"\n",
    "        self.sentence_encoder = SentenceEncoder(name=sentence_encoder, device=self.device)\n",
    "\n",
    "        if self.dataset_name == \"cora\":\n",
    "            self.custom_data = CoraPyGDataset(custom_dataRoot=self.custom_dataRoot, sentence_encoder=self.sentence_encoder)._data\n",
    "\n",
    "        elif self.dataset_name == \"pubmed\":\n",
    "            self.custom_data = PubmedPyGDataset(custom_dataRoot=self.custom_dataRoot, sentence_encoder=self.sentence_encoder)._data\n",
    "\n",
    "        elif self.dataset_name in [\"ogbn_arxiv\", \"arxiv\"]:\n",
    "            self.custom_data = ArxivPyGDataset(custom_dataRoot=self.custom_dataRoot, sentence_encoder=self.sentence_encoder)._data\n",
    "\n",
    "        else:\n",
    "            raise NotImplementedError\n",
    "\n",
    "    def get_data(self):\n",
    "        return self.custom_data"
   ]
  }
 ],
 "metadata": {
  "kernelspec": {
   "display_name": "torch_pyg_dgl",
   "language": "python",
   "name": "python3"
  },
  "language_info": {
   "codemirror_mode": {
    "name": "ipython",
    "version": 3
   },
   "file_extension": ".py",
   "mimetype": "text/x-python",
   "name": "python",
   "nbconvert_exporter": "python",
   "pygments_lexer": "ipython3",
   "version": "3.10.6"
  }
 },
 "nbformat": 4,
 "nbformat_minor": 2
}
